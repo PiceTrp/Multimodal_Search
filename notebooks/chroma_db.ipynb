{
 "cells": [
  {
   "cell_type": "code",
   "execution_count": 1,
   "id": "017006e6-b0c1-4530-ac4a-9e3bbb9442f9",
   "metadata": {},
   "outputs": [
    {
     "name": "stdout",
     "output_type": "stream",
     "text": [
      "Hi\n"
     ]
    }
   ],
   "source": [
    "print(\"Hi\")"
   ]
  },
  {
   "cell_type": "code",
   "execution_count": 3,
   "id": "bb446ed0-3721-4f26-bb3d-543b9476993e",
   "metadata": {},
   "outputs": [
    {
     "data": {
      "text/plain": [
       "'/Users/picetrp/Documents/Learn/My_Self_Learn/hands_on_projects/Multimodal_Search/notebooks'"
      ]
     },
     "execution_count": 3,
     "metadata": {},
     "output_type": "execute_result"
    }
   ],
   "source": [
    "%pwd"
   ]
  },
  {
   "cell_type": "code",
   "execution_count": 13,
   "id": "bbee9fa1-2192-4e0e-b772-63ddd12365fd",
   "metadata": {},
   "outputs": [
    {
     "name": "stdout",
     "output_type": "stream",
     "text": [
      "/Users/picetrp/Documents/Learn/My_Self_Learn/hands_on_projects/Multimodal_Search\n"
     ]
    },
    {
     "name": "stderr",
     "output_type": "stream",
     "text": [
      "/Users/picetrp/opt/anaconda3/envs/multimodal_search/lib/python3.12/site-packages/IPython/core/magics/osm.py:417: UserWarning: This is now an optional IPython functionality, setting dhist requires you to install the `pickleshare` library.\n",
      "  self.shell.db['dhist'] = compress_dhist(dhist)[-100:]\n"
     ]
    }
   ],
   "source": [
    "%cd .."
   ]
  },
  {
   "cell_type": "code",
   "execution_count": 14,
   "id": "2625fd39-8a15-4a1d-a023-675b6bd67e32",
   "metadata": {},
   "outputs": [],
   "source": [
    "import sys\n",
    "sys.path.append(\"/Users/picetrp/Documents/Learn/My_Self_Learn/hands_on_projects/Multimodal_Search/multimodal_search\")"
   ]
  },
  {
   "cell_type": "code",
   "execution_count": 15,
   "id": "ee224f83-e5ba-49be-a2f3-294ce8871e06",
   "metadata": {},
   "outputs": [],
   "source": [
    "import os\n",
    "import argparse\n",
    "\n",
    "from langchain_chroma import Chroma\n",
    "from langchain_google_genai import GoogleGenerativeAIEmbeddings\n",
    "\n",
    "from image_data_extractor import extract_image_data_for_retrieval\n",
    "from chroma_db import create_multi_vector_retriever, save_multi_vector_retriever, load_multi_vector_retriever\n",
    "from utils import save_images_from_results, display_multi_vector_retriever_df, print_retriever_contents"
   ]
  },
  {
   "cell_type": "markdown",
   "id": "b2d81f69-3eff-495a-9b15-636236911267",
   "metadata": {},
   "source": [
    "# Multi vector Understanding"
   ]
  },
  {
   "cell_type": "code",
   "execution_count": 16,
   "id": "c0a02329-2233-425e-951a-f4427c589c65",
   "metadata": {},
   "outputs": [
    {
     "data": {
      "text/plain": [
       "'/Users/picetrp/Documents/Learn/My_Self_Learn/hands_on_projects/Multimodal_Search'"
      ]
     },
     "execution_count": 16,
     "metadata": {},
     "output_type": "execute_result"
    }
   ],
   "source": [
    "os.getcwd()"
   ]
  },
  {
   "cell_type": "code",
   "execution_count": null,
   "id": "6efec9c5-66a8-4bc5-a688-61d4d10182fa",
   "metadata": {},
   "outputs": [],
   "source": []
  },
  {
   "cell_type": "code",
   "execution_count": 18,
   "id": "b87fb83a-4c62-45a4-adb5-4e4ea159a496",
   "metadata": {},
   "outputs": [
    {
     "ename": "NameError",
     "evalue": "name 'get_multi_vector_retriever' is not defined",
     "output_type": "error",
     "traceback": [
      "\u001b[0;31m---------------------------------------------------------------------------\u001b[0m",
      "\u001b[0;31mNameError\u001b[0m                                 Traceback (most recent call last)",
      "Cell \u001b[0;32mIn[18], line 1\u001b[0m\n\u001b[0;32m----> 1\u001b[0m retriever_multi_vector_img \u001b[38;5;241m=\u001b[39m get_multi_vector_retriever(gallery_path\u001b[38;5;241m=\u001b[39m\u001b[38;5;28;01mNone\u001b[39;00m, \n\u001b[1;32m      2\u001b[0m                                                         collection_name\u001b[38;5;241m=\u001b[39m\u001b[38;5;124m\"\u001b[39m\u001b[38;5;124m./chroma_db/collections_test\u001b[39m\u001b[38;5;124m\"\u001b[39m)\n",
      "\u001b[0;31mNameError\u001b[0m: name 'get_multi_vector_retriever' is not defined"
     ]
    }
   ],
   "source": [
    "retriever_multi_vector_img = get_multi_vector_retriever(gallery_path=None, \n",
    "                                                        collection_name=\"./chroma_db/collections_test\")"
   ]
  },
  {
   "cell_type": "code",
   "execution_count": 12,
   "id": "13ef4ac4-1f6a-41d6-8c7d-c1b925e80c30",
   "metadata": {},
   "outputs": [
    {
     "ename": "NameError",
     "evalue": "name 'retriever_multi_vector_img' is not defined",
     "output_type": "error",
     "traceback": [
      "\u001b[0;31m---------------------------------------------------------------------------\u001b[0m",
      "\u001b[0;31mNameError\u001b[0m                                 Traceback (most recent call last)",
      "Cell \u001b[0;32mIn[12], line 1\u001b[0m\n\u001b[0;32m----> 1\u001b[0m retriever_multi_vector_img\n",
      "\u001b[0;31mNameError\u001b[0m: name 'retriever_multi_vector_img' is not defined"
     ]
    }
   ],
   "source": [
    "retriever_multi_vector_img"
   ]
  },
  {
   "cell_type": "code",
   "execution_count": null,
   "id": "f2f13e6f-7c2c-4715-acbb-658f3ab0fbd7",
   "metadata": {},
   "outputs": [],
   "source": []
  }
 ],
 "metadata": {
  "kernelspec": {
   "display_name": "multimodal_search",
   "language": "python",
   "name": "multimodal_search"
  },
  "language_info": {
   "codemirror_mode": {
    "name": "ipython",
    "version": 3
   },
   "file_extension": ".py",
   "mimetype": "text/x-python",
   "name": "python",
   "nbconvert_exporter": "python",
   "pygments_lexer": "ipython3",
   "version": "3.12.9"
  }
 },
 "nbformat": 4,
 "nbformat_minor": 5
}
